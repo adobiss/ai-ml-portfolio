{
 "cells": [
  {
   "cell_type": "markdown",
   "metadata": {},
   "source": [
    "## XGBoost"
   ]
  },
  {
   "cell_type": "markdown",
   "metadata": {},
   "source": [
    "### 1. Objective\n",
    "\n",
    "* Create a spam filter that is good from the cybersecurity perspective\n",
    "* As the result *False Negatives* have much bigger effect than *False Positives*"
   ]
  },
  {
   "cell_type": "code",
   "execution_count": 30,
   "metadata": {},
   "outputs": [],
   "source": [
    "import numpy as np\n",
    "import pandas as pd\n",
    "import seaborn as sns\n",
    "import matplotlib.pyplot as plt\n",
    "\n",
    "from xgboost import XGBClassifier\n",
    "from sklearn.model_selection import cross_val_predict, KFold, cross_validate\n",
    "from sklearn.feature_extraction.text import CountVectorizer\n",
    "from sklearn.metrics import classification_report, confusion_matrix"
   ]
  },
  {
   "cell_type": "markdown",
   "metadata": {},
   "source": [
    "### 2. Dataset\n",
    "\n",
    "* 5,693 labelled emails\n",
    "* Unbalanced dataset (positive class is minority – 1/3)\n",
    "* Raw text – feature extraction required"
   ]
  },
  {
   "cell_type": "code",
   "execution_count": 31,
   "metadata": {
    "scrolled": false
   },
   "outputs": [
    {
     "data": {
      "text/html": [
       "<div>\n",
       "<style scoped>\n",
       "    .dataframe tbody tr th:only-of-type {\n",
       "        vertical-align: middle;\n",
       "    }\n",
       "\n",
       "    .dataframe tbody tr th {\n",
       "        vertical-align: top;\n",
       "    }\n",
       "\n",
       "    .dataframe thead th {\n",
       "        text-align: right;\n",
       "    }\n",
       "</style>\n",
       "<table border=\"1\" class=\"dataframe\">\n",
       "  <thead>\n",
       "    <tr style=\"text-align: right;\">\n",
       "      <th></th>\n",
       "      <th>text</th>\n",
       "      <th>spam</th>\n",
       "    </tr>\n",
       "  </thead>\n",
       "  <tbody>\n",
       "    <tr>\n",
       "      <th>0</th>\n",
       "      <td>Subject: naturally irresistible your corporate...</td>\n",
       "      <td>1</td>\n",
       "    </tr>\n",
       "    <tr>\n",
       "      <th>1</th>\n",
       "      <td>Subject: the stock trading gunslinger  fanny i...</td>\n",
       "      <td>1</td>\n",
       "    </tr>\n",
       "    <tr>\n",
       "      <th>2</th>\n",
       "      <td>Subject: unbelievable new homes made easy  im ...</td>\n",
       "      <td>1</td>\n",
       "    </tr>\n",
       "    <tr>\n",
       "      <th>3</th>\n",
       "      <td>Subject: 4 color printing special  request add...</td>\n",
       "      <td>1</td>\n",
       "    </tr>\n",
       "    <tr>\n",
       "      <th>4</th>\n",
       "      <td>Subject: do not have money , get software cds ...</td>\n",
       "      <td>1</td>\n",
       "    </tr>\n",
       "  </tbody>\n",
       "</table>\n",
       "</div>"
      ],
      "text/plain": [
       "                                                text  spam\n",
       "0  Subject: naturally irresistible your corporate...     1\n",
       "1  Subject: the stock trading gunslinger  fanny i...     1\n",
       "2  Subject: unbelievable new homes made easy  im ...     1\n",
       "3  Subject: 4 color printing special  request add...     1\n",
       "4  Subject: do not have money , get software cds ...     1"
      ]
     },
     "execution_count": 31,
     "metadata": {},
     "output_type": "execute_result"
    }
   ],
   "source": [
    "# Import dataset, conduct some EDA and pre-process\n",
    "\n",
    "train_data = pd.read_csv(\"D:\\ML\\Datasets\\emails.csv\")\n",
    "train_data.head()"
   ]
  },
  {
   "cell_type": "code",
   "execution_count": 32,
   "metadata": {
    "scrolled": false
   },
   "outputs": [
    {
     "data": {
      "text/html": [
       "<div>\n",
       "<style scoped>\n",
       "    .dataframe tbody tr th:only-of-type {\n",
       "        vertical-align: middle;\n",
       "    }\n",
       "\n",
       "    .dataframe tbody tr th {\n",
       "        vertical-align: top;\n",
       "    }\n",
       "\n",
       "    .dataframe thead th {\n",
       "        text-align: right;\n",
       "    }\n",
       "</style>\n",
       "<table border=\"1\" class=\"dataframe\">\n",
       "  <thead>\n",
       "    <tr style=\"text-align: right;\">\n",
       "      <th></th>\n",
       "      <th>text</th>\n",
       "    </tr>\n",
       "  </thead>\n",
       "  <tbody>\n",
       "    <tr>\n",
       "      <th>count</th>\n",
       "      <td>5726</td>\n",
       "    </tr>\n",
       "    <tr>\n",
       "      <th>unique</th>\n",
       "      <td>5693</td>\n",
       "    </tr>\n",
       "    <tr>\n",
       "      <th>top</th>\n",
       "      <td>Subject: * special notification * aurora versi...</td>\n",
       "    </tr>\n",
       "    <tr>\n",
       "      <th>freq</th>\n",
       "      <td>2</td>\n",
       "    </tr>\n",
       "  </tbody>\n",
       "</table>\n",
       "</div>"
      ],
      "text/plain": [
       "                                                     text\n",
       "count                                                5726\n",
       "unique                                               5693\n",
       "top     Subject: * special notification * aurora versi...\n",
       "freq                                                    2"
      ]
     },
     "execution_count": 32,
     "metadata": {},
     "output_type": "execute_result"
    }
   ],
   "source": [
    "train_data.describe(include=[object])"
   ]
  },
  {
   "cell_type": "code",
   "execution_count": 33,
   "metadata": {
    "scrolled": true
   },
   "outputs": [
    {
     "data": {
      "text/html": [
       "<div>\n",
       "<style scoped>\n",
       "    .dataframe tbody tr th:only-of-type {\n",
       "        vertical-align: middle;\n",
       "    }\n",
       "\n",
       "    .dataframe tbody tr th {\n",
       "        vertical-align: top;\n",
       "    }\n",
       "\n",
       "    .dataframe thead th {\n",
       "        text-align: right;\n",
       "    }\n",
       "</style>\n",
       "<table border=\"1\" class=\"dataframe\">\n",
       "  <thead>\n",
       "    <tr style=\"text-align: right;\">\n",
       "      <th></th>\n",
       "      <th>text</th>\n",
       "    </tr>\n",
       "  </thead>\n",
       "  <tbody>\n",
       "    <tr>\n",
       "      <th>count</th>\n",
       "      <td>5693</td>\n",
       "    </tr>\n",
       "    <tr>\n",
       "      <th>unique</th>\n",
       "      <td>5693</td>\n",
       "    </tr>\n",
       "    <tr>\n",
       "      <th>top</th>\n",
       "      <td>Subject: energy derivative courses  dear vince...</td>\n",
       "    </tr>\n",
       "    <tr>\n",
       "      <th>freq</th>\n",
       "      <td>1</td>\n",
       "    </tr>\n",
       "  </tbody>\n",
       "</table>\n",
       "</div>"
      ],
      "text/plain": [
       "                                                     text\n",
       "count                                                5693\n",
       "unique                                               5693\n",
       "top     Subject: energy derivative courses  dear vince...\n",
       "freq                                                    1"
      ]
     },
     "execution_count": 33,
     "metadata": {},
     "output_type": "execute_result"
    }
   ],
   "source": [
    "# Remove duplicate values\n",
    "\n",
    "train_data = train_data.drop_duplicates(subset='text')\n",
    "train_data.describe(include=[object])"
   ]
  },
  {
   "cell_type": "code",
   "execution_count": 34,
   "metadata": {},
   "outputs": [],
   "source": [
    "# Separate labels\n",
    "\n",
    "y = train_data['spam']\n",
    "train_data.drop(labels='spam', axis=1, inplace=True)"
   ]
  },
  {
   "cell_type": "markdown",
   "metadata": {},
   "source": [
    "### 3. Feature selection\n",
    "\n",
    "* CountVectorizer bag of words was used to create a sparse matrix\n",
    "* Each datapoint (email) ended up having the same feature vector length as the result which is good for tree-based algorithms\n",
    "* Word ‘Subject’ was removed, punctuation was removed, accented characters were kept \n",
    "* 37k features\n",
    "* Top 500 features selected based on occurrence frequency"
   ]
  },
  {
   "cell_type": "code",
   "execution_count": 35,
   "metadata": {},
   "outputs": [
    {
     "data": {
      "text/plain": [
       "(5693, 500)"
      ]
     },
     "execution_count": 35,
     "metadata": {},
     "output_type": "execute_result"
    }
   ],
   "source": [
    "# Create bag of words\n",
    "\n",
    "vectorizer = CountVectorizer(stop_words=['subject'], max_features=500) \n",
    "                             #, strip_accents=\"unicode\")\n",
    "X = vectorizer.fit_transform(train_data.text)\n",
    "features = vectorizer.get_feature_names() # to check feature names if required\n",
    "X = X.toarray()\n",
    "X.shape"
   ]
  },
  {
   "cell_type": "markdown",
   "metadata": {},
   "source": [
    "### 4. Algorithm selection, training and evaluation (using k-fold cross validation)\n",
    "\n",
    "***Why XGBoost?***\n",
    "\n",
    "* Weighted loss function (easy to assign more weight to positive class)\n",
    "* Feature scaling not required for tree-based algorithms\n",
    "* Collinearity is not an issue\n",
    "* Good for sparse datasets\n",
    "* L1 regularisation can be easily implemented as boosted algorithms are sensitive to outliers (i.e. prediction is far from actual class)\n",
    "* Fast (but slower than LightGBM)"
   ]
  },
  {
   "cell_type": "code",
   "execution_count": 36,
   "metadata": {},
   "outputs": [],
   "source": [
    "# Specify model and KFold parameters\n",
    "\n",
    "model = XGBClassifier(n_estimators=50, scale_pos_weight=3, max_depth=8, learning_rate=0.3, verbosity=0, random_state=1\n",
    "                      , reg_alpha=5, reg_lambda=0, use_label_encoder=False)\n",
    "cv = KFold(n_splits=10, random_state=1, shuffle=True)"
   ]
  },
  {
   "cell_type": "code",
   "execution_count": 45,
   "metadata": {},
   "outputs": [],
   "source": [
    "# Make predictions\n",
    "\n",
    "predictions = cross_val_predict(model, X, y, cv=cv)"
   ]
  },
  {
   "cell_type": "code",
   "execution_count": 38,
   "metadata": {
    "scrolled": true
   },
   "outputs": [
    {
     "data": {
      "image/png": "[encoded data removed]",
      "text/plain": [
       "<Figure size 432x288 with 2 Axes>"
      ]
     },
     "metadata": {
      "needs_background": "light"
     },
     "output_type": "display_data"
    }
   ],
   "source": [
    "# Print confusion matrix\n",
    "\n",
    "cm = confusion_matrix(y, predictions)\n",
    "class_names = [0, 1] # names of classes\n",
    "fig, ax = plt.subplots()\n",
    "tick_marks = np.arange(len(class_names))\n",
    "plt.xticks(tick_marks, class_names)\n",
    "plt.yticks(tick_marks, class_names)\n",
    "\n",
    "# Create heatmap\n",
    "sns.heatmap(pd.DataFrame(cm), annot=True, cmap=\"YlGnBu\",fmt='g')\n",
    "ax.xaxis.set_label_position(\"top\")\n",
    "plt.tight_layout()\n",
    "plt.title('Confusion matrix', y=1.1)\n",
    "plt.ylabel('Actual label')\n",
    "plt.xlabel('Predicted label')\n",
    "plt.show()"
   ]
  },
  {
   "cell_type": "code",
   "execution_count": 39,
   "metadata": {
    "scrolled": true
   },
   "outputs": [
    {
     "name": "stdout",
     "output_type": "stream",
     "text": [
      "Classification Report:\n",
      "              precision    recall  f1-score   support\n",
      "\n",
      "           0       1.00      0.97      0.98      4325\n",
      "           1       0.92      0.99      0.95      1368\n",
      "\n",
      "    accuracy                           0.98      5693\n",
      "   macro avg       0.96      0.98      0.97      5693\n",
      "weighted avg       0.98      0.98      0.98      5693\n",
      "\n"
     ]
    }
   ],
   "source": [
    "# Print classification report\n",
    "\n",
    "print(\"Classification Report:\")\n",
    "print(classification_report(y, predictions))"
   ]
  },
  {
   "cell_type": "code",
   "execution_count": 40,
   "metadata": {
    "scrolled": true
   },
   "outputs": [],
   "source": [
    "scores = cross_validate(model, X, y, cv=cv, scoring=('accuracy', 'precision', 'recall', 'roc_auc'), return_train_score=True)\n",
    "#print(scores.keys()) # to obtain dict keys"
   ]
  },
  {
   "cell_type": "code",
   "execution_count": 41,
   "metadata": {},
   "outputs": [
    {
     "name": "stdout",
     "output_type": "stream",
     "text": [
      "Mean accuracy score (training): 0.99\n",
      "Mean accuracy score (testing): 0.98\n",
      "Mean precision score (training): 0.97\n",
      "Mean precision score (testing): 0.92\n",
      "Mean recall score (training): 1.00\n",
      "Mean recall score (testing): 0.99\n",
      "Mean ROC AUC score (training): 1.00\n",
      "Mean ROC AUC score (testing): 1.00\n"
     ]
    }
   ],
   "source": [
    "mean_train_acc = round(np.mean((scores['train_accuracy'])), 2)\n",
    "mean_test_acc = round(np.mean((scores['test_accuracy'])), 2)\n",
    "mean_train_prec = round(np.mean((scores['train_precision'])), 2)\n",
    "mean_test_prec = round(np.mean((scores['test_precision'])), 2)\n",
    "mean_train_rec = round(np.mean((scores['train_recall'])), 2)\n",
    "mean_test_rec = round(np.mean((scores['test_recall'])), 2)\n",
    "mean_train_roc_auc = round(np.mean((scores['train_roc_auc']), dtype=np.float64), 2)\n",
    "mean_test_roc_auc = round(np.mean((scores['test_roc_auc']), dtype=np.float64), 2)\n",
    "print(\"Mean accuracy score (training): {0:.2f}\".format(mean_train_acc))\n",
    "print(\"Mean accuracy score (testing): {0:.2f}\".format(mean_test_acc))\n",
    "print(\"Mean precision score (training): {0:.2f}\".format(mean_train_prec))\n",
    "print(\"Mean precision score (testing): {0:.2f}\".format(mean_test_prec))\n",
    "print(\"Mean recall score (training): {0:.2f}\".format(mean_train_rec))\n",
    "print(\"Mean recall score (testing): {0:.2f}\".format(mean_test_rec))\n",
    "print(\"Mean ROC AUC score (training): {0:.2f}\".format(mean_train_roc_auc))\n",
    "print(\"Mean ROC AUC score (testing): {0:.2f}\".format(mean_test_roc_auc))"
   ]
  },
  {
   "cell_type": "code",
   "execution_count": 42,
   "metadata": {},
   "outputs": [
    {
     "name": "stdout",
     "output_type": "stream",
     "text": [
      "False Positive Rate (testing): 0.03\n",
      "False Negative Rate (testing): 0.01\n",
      "Specificity (testing): 0.96\n",
      "Sensitivity (testing): 0.99\n"
     ]
    }
   ],
   "source": [
    "FPR = 123 / (123 + 4237) # FP / FP + TN\n",
    "FNR = 20 / (20 + 1348) # FN / FN + TP\n",
    "TNR = 4237 / (4273 + 123) # TN / TN + FP (Specificity)\n",
    "TPR = 1348 / (1348 + 20)\n",
    "print(\"False Positive Rate (testing): {0:.2f}\".format(FPR))\n",
    "print(\"False Negative Rate (testing): {0:.2f}\".format(FNR))\n",
    "print(\"Specificity (testing): {0:.2f}\".format(TNR))\n",
    "print(\"Sensitivity (testing): {0:.2f}\".format(TPR))"
   ]
  },
  {
   "cell_type": "markdown",
   "metadata": {},
   "source": [
    "### 5. Conclusion\n",
    "\n",
    "* The model is good at catching spam (99% will end up in spam folder)\n",
    "* but a little too cautious as 3-4% of legitimate emails will also end up in spam folder"
   ]
  },
  {
   "cell_type": "markdown",
   "metadata": {},
   "source": [
    "### 6. Future improvements\n",
    "\n",
    "* Feature selection/ reduction can potentially be significantly improved as feature correlation is high judging by feature correlation map (not included in the presentation)\n",
    "* Hyperparameter tuning can be automated to yield better results (e.g. GridSearchCV)"
   ]
  }
 ],
 "metadata": {
  "kernelspec": {
   "display_name": "Python 3",
   "language": "python",
   "name": "python3"
  },
  "language_info": {
   "codemirror_mode": {
    "name": "ipython",
    "version": 3
   },
   "file_extension": ".py",
   "mimetype": "text/x-python",
   "name": "python",
   "nbconvert_exporter": "python",
   "pygments_lexer": "ipython3",
   "version": "3.8.5"
  }
 },
 "nbformat": 4,
 "nbformat_minor": 4
}
